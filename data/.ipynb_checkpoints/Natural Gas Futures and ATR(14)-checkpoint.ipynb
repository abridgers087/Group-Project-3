{
 "cells": [
  {
   "cell_type": "code",
   "execution_count": 1,
   "id": "3338b556",
   "metadata": {},
   "outputs": [],
   "source": [
    "import yfinance as yf\n",
    "import pandas as pd\n",
    "\n",
    "# import plotly.express as px\n",
    "# import plotly.graph_objects as go\n",
    "# from plotly.subplots import make_subplots\n",
    "\n",
    "import datetime as dt\n",
    "from datetime import timedelta\n",
    "\n",
    "from matplotlib import pyplot as plt\n",
    "\n",
    "import json\n",
    "import os"
   ]
  },
  {
   "cell_type": "code",
   "execution_count": 2,
   "id": "115bcc29",
   "metadata": {},
   "outputs": [],
   "source": [
    "# parameters for API call\n",
    "start = start = dt.datetime(2010,12,1)\n",
    "end = dt.datetime(2020,2,29)\n",
    "ticker = 'NG=F' # "
   ]
  },
  {
   "cell_type": "code",
   "execution_count": 3,
   "id": "01a674f5",
   "metadata": {},
   "outputs": [
    {
     "name": "stdout",
     "output_type": "stream",
     "text": [
      "[*********************100%***********************]  1 of 1 completed\n"
     ]
    }
   ],
   "source": [
    "# API request\n",
    "df = yf.download(ticker,start,end)"
   ]
  },
  {
   "cell_type": "code",
   "execution_count": 4,
   "id": "4f84553d",
   "metadata": {},
   "outputs": [
    {
     "data": {
      "text/html": [
       "<div>\n",
       "<style scoped>\n",
       "    .dataframe tbody tr th:only-of-type {\n",
       "        vertical-align: middle;\n",
       "    }\n",
       "\n",
       "    .dataframe tbody tr th {\n",
       "        vertical-align: top;\n",
       "    }\n",
       "\n",
       "    .dataframe thead th {\n",
       "        text-align: right;\n",
       "    }\n",
       "</style>\n",
       "<table border=\"1\" class=\"dataframe\">\n",
       "  <thead>\n",
       "    <tr style=\"text-align: right;\">\n",
       "      <th></th>\n",
       "      <th>Open</th>\n",
       "      <th>High</th>\n",
       "      <th>Low</th>\n",
       "      <th>Close</th>\n",
       "      <th>Adj_Close</th>\n",
       "      <th>Volume</th>\n",
       "    </tr>\n",
       "    <tr>\n",
       "      <th>Date</th>\n",
       "      <th></th>\n",
       "      <th></th>\n",
       "      <th></th>\n",
       "      <th></th>\n",
       "      <th></th>\n",
       "      <th></th>\n",
       "    </tr>\n",
       "  </thead>\n",
       "  <tbody>\n",
       "    <tr>\n",
       "      <th>2010-12-01</th>\n",
       "      <td>4.196</td>\n",
       "      <td>4.324</td>\n",
       "      <td>4.164</td>\n",
       "      <td>4.269</td>\n",
       "      <td>4.269</td>\n",
       "      <td>118741</td>\n",
       "    </tr>\n",
       "    <tr>\n",
       "      <th>2010-12-02</th>\n",
       "      <td>4.310</td>\n",
       "      <td>4.377</td>\n",
       "      <td>4.197</td>\n",
       "      <td>4.343</td>\n",
       "      <td>4.343</td>\n",
       "      <td>135776</td>\n",
       "    </tr>\n",
       "    <tr>\n",
       "      <th>2010-12-03</th>\n",
       "      <td>4.341</td>\n",
       "      <td>4.391</td>\n",
       "      <td>4.280</td>\n",
       "      <td>4.349</td>\n",
       "      <td>4.349</td>\n",
       "      <td>86975</td>\n",
       "    </tr>\n",
       "    <tr>\n",
       "      <th>2010-12-06</th>\n",
       "      <td>4.385</td>\n",
       "      <td>4.540</td>\n",
       "      <td>4.328</td>\n",
       "      <td>4.488</td>\n",
       "      <td>4.488</td>\n",
       "      <td>151475</td>\n",
       "    </tr>\n",
       "    <tr>\n",
       "      <th>2010-12-07</th>\n",
       "      <td>4.500</td>\n",
       "      <td>4.545</td>\n",
       "      <td>4.383</td>\n",
       "      <td>4.393</td>\n",
       "      <td>4.393</td>\n",
       "      <td>155154</td>\n",
       "    </tr>\n",
       "    <tr>\n",
       "      <th>...</th>\n",
       "      <td>...</td>\n",
       "      <td>...</td>\n",
       "      <td>...</td>\n",
       "      <td>...</td>\n",
       "      <td>...</td>\n",
       "      <td>...</td>\n",
       "    </tr>\n",
       "    <tr>\n",
       "      <th>2020-02-24</th>\n",
       "      <td>1.884</td>\n",
       "      <td>1.884</td>\n",
       "      <td>1.824</td>\n",
       "      <td>1.827</td>\n",
       "      <td>1.827</td>\n",
       "      <td>75204</td>\n",
       "    </tr>\n",
       "    <tr>\n",
       "      <th>2020-02-25</th>\n",
       "      <td>1.836</td>\n",
       "      <td>1.862</td>\n",
       "      <td>1.819</td>\n",
       "      <td>1.847</td>\n",
       "      <td>1.847</td>\n",
       "      <td>70528</td>\n",
       "    </tr>\n",
       "    <tr>\n",
       "      <th>2020-02-26</th>\n",
       "      <td>1.848</td>\n",
       "      <td>1.880</td>\n",
       "      <td>1.810</td>\n",
       "      <td>1.821</td>\n",
       "      <td>1.821</td>\n",
       "      <td>163415</td>\n",
       "    </tr>\n",
       "    <tr>\n",
       "      <th>2020-02-27</th>\n",
       "      <td>1.828</td>\n",
       "      <td>1.831</td>\n",
       "      <td>1.719</td>\n",
       "      <td>1.752</td>\n",
       "      <td>1.752</td>\n",
       "      <td>276100</td>\n",
       "    </tr>\n",
       "    <tr>\n",
       "      <th>2020-02-28</th>\n",
       "      <td>1.748</td>\n",
       "      <td>1.750</td>\n",
       "      <td>1.642</td>\n",
       "      <td>1.684</td>\n",
       "      <td>1.684</td>\n",
       "      <td>218418</td>\n",
       "    </tr>\n",
       "  </tbody>\n",
       "</table>\n",
       "<p>2324 rows × 6 columns</p>\n",
       "</div>"
      ],
      "text/plain": [
       "             Open   High    Low  Close  Adj_Close  Volume\n",
       "Date                                                     \n",
       "2010-12-01  4.196  4.324  4.164  4.269      4.269  118741\n",
       "2010-12-02  4.310  4.377  4.197  4.343      4.343  135776\n",
       "2010-12-03  4.341  4.391  4.280  4.349      4.349   86975\n",
       "2010-12-06  4.385  4.540  4.328  4.488      4.488  151475\n",
       "2010-12-07  4.500  4.545  4.383  4.393      4.393  155154\n",
       "...           ...    ...    ...    ...        ...     ...\n",
       "2020-02-24  1.884  1.884  1.824  1.827      1.827   75204\n",
       "2020-02-25  1.836  1.862  1.819  1.847      1.847   70528\n",
       "2020-02-26  1.848  1.880  1.810  1.821      1.821  163415\n",
       "2020-02-27  1.828  1.831  1.719  1.752      1.752  276100\n",
       "2020-02-28  1.748  1.750  1.642  1.684      1.684  218418\n",
       "\n",
       "[2324 rows x 6 columns]"
      ]
     },
     "execution_count": 4,
     "metadata": {},
     "output_type": "execute_result"
    }
   ],
   "source": [
    "# rename adjusted close column\n",
    "df = df.rename(columns={\"Adj Close\":'Adj_Close'})\n",
    "df"
   ]
  },
  {
   "cell_type": "code",
   "execution_count": 5,
   "id": "acb2b3c7",
   "metadata": {},
   "outputs": [],
   "source": [
    "# https://stackoverflow.com/questions/40256338/calculating-average-true-range-atr-on-ohlc-data-with-python\n",
    "# fifth answer\n",
    "days = 5\n",
    "# calculate Average True Range over length of dataset\n",
    "ATR = pd.concat([df.High.sub(df.Low), df.High.sub(df.Adj_Close.shift()), df.Low.sub(df.Adj_Close.shift())], axis=1).max(1).ewm(span=days).mean()"
   ]
  },
  {
   "cell_type": "code",
   "execution_count": 6,
   "id": "ac22b2e2",
   "metadata": {},
   "outputs": [
    {
     "data": {
      "text/html": [
       "<div>\n",
       "<style scoped>\n",
       "    .dataframe tbody tr th:only-of-type {\n",
       "        vertical-align: middle;\n",
       "    }\n",
       "\n",
       "    .dataframe tbody tr th {\n",
       "        vertical-align: top;\n",
       "    }\n",
       "\n",
       "    .dataframe thead th {\n",
       "        text-align: right;\n",
       "    }\n",
       "</style>\n",
       "<table border=\"1\" class=\"dataframe\">\n",
       "  <thead>\n",
       "    <tr style=\"text-align: right;\">\n",
       "      <th></th>\n",
       "      <th>0</th>\n",
       "    </tr>\n",
       "    <tr>\n",
       "      <th>Date</th>\n",
       "      <th></th>\n",
       "    </tr>\n",
       "  </thead>\n",
       "  <tbody>\n",
       "    <tr>\n",
       "      <th>2010-12-01</th>\n",
       "      <td>0.160000</td>\n",
       "    </tr>\n",
       "    <tr>\n",
       "      <th>2010-12-02</th>\n",
       "      <td>0.172000</td>\n",
       "    </tr>\n",
       "    <tr>\n",
       "      <th>2010-12-03</th>\n",
       "      <td>0.143105</td>\n",
       "    </tr>\n",
       "    <tr>\n",
       "      <th>2010-12-06</th>\n",
       "      <td>0.171723</td>\n",
       "    </tr>\n",
       "    <tr>\n",
       "      <th>2010-12-07</th>\n",
       "      <td>0.167990</td>\n",
       "    </tr>\n",
       "    <tr>\n",
       "      <th>...</th>\n",
       "      <td>...</td>\n",
       "    </tr>\n",
       "    <tr>\n",
       "      <th>2020-02-24</th>\n",
       "      <td>0.072027</td>\n",
       "    </tr>\n",
       "    <tr>\n",
       "      <th>2020-02-25</th>\n",
       "      <td>0.062352</td>\n",
       "    </tr>\n",
       "    <tr>\n",
       "      <th>2020-02-26</th>\n",
       "      <td>0.064901</td>\n",
       "    </tr>\n",
       "    <tr>\n",
       "      <th>2020-02-27</th>\n",
       "      <td>0.080601</td>\n",
       "    </tr>\n",
       "    <tr>\n",
       "      <th>2020-02-28</th>\n",
       "      <td>0.089734</td>\n",
       "    </tr>\n",
       "  </tbody>\n",
       "</table>\n",
       "<p>2324 rows × 1 columns</p>\n",
       "</div>"
      ],
      "text/plain": [
       "                   0\n",
       "Date                \n",
       "2010-12-01  0.160000\n",
       "2010-12-02  0.172000\n",
       "2010-12-03  0.143105\n",
       "2010-12-06  0.171723\n",
       "2010-12-07  0.167990\n",
       "...              ...\n",
       "2020-02-24  0.072027\n",
       "2020-02-25  0.062352\n",
       "2020-02-26  0.064901\n",
       "2020-02-27  0.080601\n",
       "2020-02-28  0.089734\n",
       "\n",
       "[2324 rows x 1 columns]"
      ]
     },
     "execution_count": 6,
     "metadata": {},
     "output_type": "execute_result"
    }
   ],
   "source": [
    "ATR = pd.DataFrame(ATR)\n",
    "ATR"
   ]
  },
  {
   "cell_type": "code",
   "execution_count": null,
   "id": "74ee254c",
   "metadata": {},
   "outputs": [],
   "source": [
    "####### plot NG price and ATR over length of timeframe ########\n",
    "\n",
    "plt.figure(figsize=(12,8))\n",
    "\n",
    "## natural gas futures prices plot\n",
    "ax1 = plt.subplot(211)\n",
    "ax1.plot(df.index, df['Adj_Close'], color='lightgray')\n",
    "ax1.set_title('Adjusted Close Price', color =\"white\")\n",
    "\n",
    "ax1.grid(True, color='#555555')\n",
    "ax1.set_axisbelow(True)\n",
    "ax1.set_facecolor('black')\n",
    "ax1.figure.set_facecolor('#121212')\n",
    "ax1.tick_params(axis='x', colors='white')\n",
    "ax1.tick_params(axis='y', colors='white')\n",
    "\n",
    "\n",
    "# 14 day ATR plot\n",
    "ax2 = plt.subplot(212, sharex=ax1)\n",
    "ax2.plot(df.index, ATR, color='white')\n",
    "\n",
    "\n",
    "\n",
    "ax2.set_title(f'Average True Range({days})', color='white')\n",
    "ax2.grid(True)\n",
    "ax2.set_axisbelow(True)\n",
    "ax2.set_facecolor('black')\n",
    "ax2.tick_params(axis='x', colors='white')\n",
    "ax2.tick_params(axis='y', colors='white')\n",
    "\n",
    "\n",
    "##################\n",
    "\n",
    "plt.show()"
   ]
  },
  {
   "cell_type": "code",
   "execution_count": null,
   "id": "460b75d9",
   "metadata": {},
   "outputs": [],
   "source": [
    "# merge ATR data to price dataframe\n",
    "merged_df = pd.concat([df, ATR], axis=1)\n"
   ]
  },
  {
   "cell_type": "code",
   "execution_count": null,
   "id": "c2c3c392",
   "metadata": {},
   "outputs": [],
   "source": [
    "# rename 0 column to 'ATR'\n",
    "merged_df.rename(columns={0:'ATR'}, inplace=True)"
   ]
  },
  {
   "cell_type": "code",
   "execution_count": null,
   "id": "2e99da67",
   "metadata": {},
   "outputs": [],
   "source": [
    "# final merged df\n",
    "merged_df"
   ]
  },
  {
   "cell_type": "code",
   "execution_count": null,
   "id": "46b00145",
   "metadata": {},
   "outputs": [],
   "source": [
    "# making index a 'Date' column\n",
    "    # simplifies filtering by date in following steps\n",
    "merged_df = merged_df.reset_index()\n"
   ]
  },
  {
   "cell_type": "code",
   "execution_count": null,
   "id": "558bf929",
   "metadata": {},
   "outputs": [],
   "source": [
    "merged_df"
   ]
  },
  {
   "cell_type": "code",
   "execution_count": null,
   "id": "30474c21",
   "metadata": {},
   "outputs": [],
   "source": [
    "# build list of years in timeframe\n",
    "years = [year for year in range(2010,2020)]\n",
    "years"
   ]
  },
  {
   "cell_type": "code",
   "execution_count": null,
   "id": "65daa33a",
   "metadata": {},
   "outputs": [],
   "source": [
    "# combine all winter data into single dataframe\n",
    "filtered_df = pd.DataFrame()\n",
    "\n",
    "for year in years:\n",
    "    winter_df = merged_df.loc[(merged_df['Date'] >= f'{year}-12-01') & (merged_df['Date'] <f'{year+1}-03-01')]\n",
    "    filtered_df = pd.concat([filtered_df, winter_df])"
   ]
  },
  {
   "cell_type": "code",
   "execution_count": null,
   "id": "5e604e4d",
   "metadata": {},
   "outputs": [],
   "source": [
    "filtered_df"
   ]
  },
  {
   "cell_type": "code",
   "execution_count": null,
   "id": "68f24887",
   "metadata": {},
   "outputs": [],
   "source": [
    "# export dataframe above in CSV file\n",
    "# filtered_df.to_csv('winter_NG_data.csv', index=False)\n"
   ]
  },
  {
   "cell_type": "code",
   "execution_count": null,
   "id": "8b49b234",
   "metadata": {},
   "outputs": [],
   "source": [
    "######################## build sub-datasets for each year ############################"
   ]
  },
  {
   "cell_type": "code",
   "execution_count": null,
   "id": "1a1841c5",
   "metadata": {},
   "outputs": [],
   "source": [
    "############ 2011 - 2012 #############"
   ]
  },
  {
   "cell_type": "code",
   "execution_count": null,
   "id": "11244df3",
   "metadata": {},
   "outputs": [],
   "source": [
    "# price and ATR data for 2011-12-01 - 2012-02-29\n",
    "winter_11_12 = merged_df.loc[(merged_df['Date'] >= '2011-12-01') & (merged_df['Date'] < '2012-03-01')]\n",
    "winter_11_12"
   ]
  },
  {
   "cell_type": "code",
   "execution_count": null,
   "id": "6810edd4",
   "metadata": {},
   "outputs": [],
   "source": [
    "# plot price and ATR data for 12/01/2010 - 3/28/2011\n",
    "\n",
    "\n",
    "plt.figure(figsize=(12,8))\n",
    "\n",
    "## natural gas futures prices plot\n",
    "ax1 = plt.subplot(211)\n",
    "ax1.plot(winter_11_12['Date'], winter_11_12['Adj_Close'], color='lightgray')\n",
    "ax1.set_title('Adjusted Close Price', color =\"white\")\n",
    "\n",
    "ax1.grid(True, color='#555555')\n",
    "ax1.set_axisbelow(True)\n",
    "ax1.set_facecolor('black')\n",
    "ax1.figure.set_facecolor('#121212')\n",
    "ax1.tick_params(axis='x', colors='white')\n",
    "ax1.tick_params(axis='y', colors='white')\n",
    "\n",
    "\n",
    "# 14 day ATR plot\n",
    "ax2 = plt.subplot(212, sharex=ax1)\n",
    "ax2.plot(winter_11_12['Date'], winter_11_12['ATR'], color='white')\n",
    "\n",
    "\n",
    "\n",
    "ax2.set_title('Average True Range', color='white')\n",
    "ax2.grid(True)\n",
    "ax2.set_axisbelow(True)\n",
    "ax2.set_facecolor('black')\n",
    "ax2.tick_params(axis='x', colors='white')\n",
    "ax2.tick_params(axis='y', colors='white')\n",
    "\n",
    "\n",
    "##################\n",
    "\n",
    "plt.show()"
   ]
  },
  {
   "cell_type": "code",
   "execution_count": null,
   "id": "546debad",
   "metadata": {},
   "outputs": [],
   "source": [
    "#convert from date time to string\n",
    "winter_11_12 = winter_11_12.copy()\n",
    "winter_11_12[\"Date\"] = winter_11_12[\"Date\"].astype(\"str\")\n"
   ]
  },
  {
   "cell_type": "code",
   "execution_count": null,
   "id": "b323e9cc",
   "metadata": {},
   "outputs": [],
   "source": [
    "# change 'Date' to index\n",
    "# winter_11_12 = winter_11_12.set_index('Date')\n",
    "# winter_11_12"
   ]
  },
  {
   "cell_type": "code",
   "execution_count": null,
   "id": "c87e63e5",
   "metadata": {},
   "outputs": [],
   "source": [
    "# export JSON file\n",
    "winter_11_12.to_json(r'Price_data\\ATR_11_12.json')"
   ]
  },
  {
   "cell_type": "code",
   "execution_count": null,
   "id": "025bb4b8",
   "metadata": {},
   "outputs": [],
   "source": [
    "############ 2012 - 2013 #############"
   ]
  },
  {
   "cell_type": "code",
   "execution_count": null,
   "id": "7a28a27e",
   "metadata": {},
   "outputs": [],
   "source": [
    "# filter price/ATR data\n",
    "winter_12_13 = merged_df.loc[(merged_df['Date'] >= '2012-12-01') & (merged_df['Date'] < '2013-03-01')]\n",
    "winter_12_13"
   ]
  },
  {
   "cell_type": "code",
   "execution_count": null,
   "id": "16de36bb",
   "metadata": {},
   "outputs": [],
   "source": [
    "#convert from date time to string\n",
    "winter_12_13 = winter_12_13.copy()\n",
    "winter_12_13[\"Date\"] = winter_12_13[\"Date\"].astype(\"str\")\n"
   ]
  },
  {
   "cell_type": "code",
   "execution_count": null,
   "id": "a03c3acc",
   "metadata": {},
   "outputs": [],
   "source": [
    "# change 'Date' to index\n",
    "# winter_12_13 = winter_12_13.set_index('Date')\n",
    "# winter_12_13"
   ]
  },
  {
   "cell_type": "code",
   "execution_count": null,
   "id": "6822d906",
   "metadata": {},
   "outputs": [],
   "source": [
    "# export JSON file\n",
    "winter_12_13.to_json(r'Price_data\\ATR_12_13.json')"
   ]
  },
  {
   "cell_type": "code",
   "execution_count": null,
   "id": "79611330",
   "metadata": {},
   "outputs": [],
   "source": [
    "############ 2013 - 2014 #############"
   ]
  },
  {
   "cell_type": "code",
   "execution_count": null,
   "id": "31efb7c5",
   "metadata": {},
   "outputs": [],
   "source": [
    "# filter price/ATR data\n",
    "winter_13_14 = merged_df.loc[(merged_df['Date'] >= '2013-12-01') & (merged_df['Date'] < '2014-03-01')]\n",
    "winter_13_14"
   ]
  },
  {
   "cell_type": "code",
   "execution_count": null,
   "id": "b02888b8",
   "metadata": {},
   "outputs": [],
   "source": [
    "#convert from date time to string\n",
    "winter_13_14 = winter_13_14.copy()\n",
    "winter_13_14[\"Date\"] = winter_13_14[\"Date\"].astype(\"str\")\n"
   ]
  },
  {
   "cell_type": "code",
   "execution_count": null,
   "id": "1592f5c3",
   "metadata": {},
   "outputs": [],
   "source": [
    "# change 'Date' to index\n",
    "# winter_13_14 = winter_13_14.set_index('Date')\n",
    "#winter_13_14"
   ]
  },
  {
   "cell_type": "code",
   "execution_count": null,
   "id": "1aaa97fc",
   "metadata": {},
   "outputs": [],
   "source": [
    "# export JSON file\n",
    "winter_13_14.to_json(r'Price_data\\ATR_13_14.json')"
   ]
  },
  {
   "cell_type": "code",
   "execution_count": null,
   "id": "765877d9",
   "metadata": {},
   "outputs": [],
   "source": [
    "############ 2014 - 2015 #############"
   ]
  },
  {
   "cell_type": "code",
   "execution_count": null,
   "id": "8b441b63",
   "metadata": {},
   "outputs": [],
   "source": [
    "# filter price/ATR data\n",
    "winter_14_15 = merged_df.loc[(merged_df['Date'] >= '2014-12-01') & (merged_df['Date'] < '2015-03-01')]\n",
    "winter_14_15"
   ]
  },
  {
   "cell_type": "code",
   "execution_count": null,
   "id": "39b9472f",
   "metadata": {},
   "outputs": [],
   "source": [
    "#convert from date time to string\n",
    "winter_14_15 = winter_14_15.copy()\n",
    "winter_14_15[\"Date\"] = winter_14_15[\"Date\"].astype(\"str\")\n"
   ]
  },
  {
   "cell_type": "code",
   "execution_count": null,
   "id": "b576a3f2",
   "metadata": {},
   "outputs": [],
   "source": [
    "# change 'Date' to index\n",
    "# winter_14_15 = winter_14_15.set_index('Date')\n",
    "#winter_14_15"
   ]
  },
  {
   "cell_type": "code",
   "execution_count": null,
   "id": "7882bed4",
   "metadata": {},
   "outputs": [],
   "source": [
    "# export JSON file\n",
    "winter_14_15.to_json(r'Price_data\\ATR_14_15.json')"
   ]
  },
  {
   "cell_type": "code",
   "execution_count": null,
   "id": "c1ced8cd",
   "metadata": {},
   "outputs": [],
   "source": [
    "############ 2015 - 2016 #############"
   ]
  },
  {
   "cell_type": "code",
   "execution_count": null,
   "id": "c2716092",
   "metadata": {},
   "outputs": [],
   "source": [
    "# filter price/ATR data\n",
    "winter_15_16 = merged_df.loc[(merged_df['Date'] >= '2015-12-01') & (merged_df['Date'] < '2016-03-01')]\n",
    "winter_15_16"
   ]
  },
  {
   "cell_type": "code",
   "execution_count": null,
   "id": "b6ec9beb",
   "metadata": {},
   "outputs": [],
   "source": [
    "#convert from date time to string\n",
    "winter_15_16 = winter_15_16.copy()\n",
    "winter_15_16[\"Date\"] = winter_15_16[\"Date\"].astype(\"str\")\n"
   ]
  },
  {
   "cell_type": "code",
   "execution_count": null,
   "id": "6b0c136a",
   "metadata": {},
   "outputs": [],
   "source": [
    "# change 'Date' to index\n",
    "# winter_15_16 = winter_15_16.set_index('Date')\n",
    "#winter_15_16"
   ]
  },
  {
   "cell_type": "code",
   "execution_count": null,
   "id": "f205c099",
   "metadata": {},
   "outputs": [],
   "source": [
    "# export JSON file\n",
    "winter_15_16.to_json(r'Price_data\\ATR_15_16.json')"
   ]
  },
  {
   "cell_type": "code",
   "execution_count": null,
   "id": "4e3d8252",
   "metadata": {},
   "outputs": [],
   "source": [
    "############ 2016 - 2017 #############"
   ]
  },
  {
   "cell_type": "code",
   "execution_count": null,
   "id": "2f24df60",
   "metadata": {},
   "outputs": [],
   "source": [
    "# filter price/ATR data\n",
    "winter_16_17 = merged_df.loc[(merged_df['Date'] >= '2016-12-01') & (merged_df['Date'] < '2017-03-01')]\n",
    "winter_16_17"
   ]
  },
  {
   "cell_type": "code",
   "execution_count": null,
   "id": "29f6d280",
   "metadata": {},
   "outputs": [],
   "source": [
    "#convert from date time to string\n",
    "winter_16_17 = winter_16_17.copy()\n",
    "winter_16_17[\"Date\"] = winter_16_17[\"Date\"].astype(\"str\")\n"
   ]
  },
  {
   "cell_type": "code",
   "execution_count": null,
   "id": "9a715e9e",
   "metadata": {},
   "outputs": [],
   "source": [
    "# change 'Date' to index\n",
    "# winter_16_17 = winter_16_17.set_index('Date')\n",
    "#winter_16_17"
   ]
  },
  {
   "cell_type": "code",
   "execution_count": null,
   "id": "941f9299",
   "metadata": {},
   "outputs": [],
   "source": [
    "# export JSON file\n",
    "winter_16_17.to_json(r'Price_data\\ATR_16_17.json')"
   ]
  },
  {
   "cell_type": "code",
   "execution_count": null,
   "id": "e90f9a0d",
   "metadata": {},
   "outputs": [],
   "source": [
    "############ 2017 - 2018 #############"
   ]
  },
  {
   "cell_type": "code",
   "execution_count": null,
   "id": "4587d8db",
   "metadata": {},
   "outputs": [],
   "source": [
    "# filter price/ATR data\n",
    "winter_17_18 = merged_df.loc[(merged_df['Date'] >= '2017-12-01') & (merged_df['Date'] < '2018-03-01')]\n",
    "winter_17_18"
   ]
  },
  {
   "cell_type": "code",
   "execution_count": null,
   "id": "5fcbf56a",
   "metadata": {},
   "outputs": [],
   "source": [
    "#convert from date time to string\n",
    "winter_17_18 = winter_17_18.copy()\n",
    "winter_17_18[\"Date\"] = winter_17_18[\"Date\"].astype(\"str\")\n"
   ]
  },
  {
   "cell_type": "code",
   "execution_count": null,
   "id": "04dc4625",
   "metadata": {},
   "outputs": [],
   "source": [
    "# change 'Date' to index\n",
    "# winter_17_18 = winter_17_18.set_index('Date')\n",
    "#winter_17_18"
   ]
  },
  {
   "cell_type": "code",
   "execution_count": null,
   "id": "04f2bc89",
   "metadata": {},
   "outputs": [],
   "source": [
    "# export JSON file\n",
    "winter_17_18.to_json(r'Price_data\\ATR_17_18.json')"
   ]
  },
  {
   "cell_type": "code",
   "execution_count": null,
   "id": "7cb2cdd8",
   "metadata": {},
   "outputs": [],
   "source": [
    "############ 2018 - 2019 #############"
   ]
  },
  {
   "cell_type": "code",
   "execution_count": null,
   "id": "0b3540f2",
   "metadata": {},
   "outputs": [],
   "source": [
    "# filter price/ATR data\n",
    "winter_18_19 = merged_df.loc[(merged_df['Date'] >= '2018-12-01') & (merged_df['Date'] < '2019-03-01')]\n",
    "winter_18_19"
   ]
  },
  {
   "cell_type": "code",
   "execution_count": null,
   "id": "58fed210",
   "metadata": {},
   "outputs": [],
   "source": [
    "#convert from date time to string\n",
    "winter_18_19 = winter_18_19.copy()\n",
    "winter_18_19[\"Date\"] = winter_18_19[\"Date\"].astype(\"str\")\n"
   ]
  },
  {
   "cell_type": "code",
   "execution_count": null,
   "id": "76390ac7",
   "metadata": {},
   "outputs": [],
   "source": [
    "# change 'Date' to index\n",
    "# winter_18_19 = winter_18_19.set_index('Date')\n",
    "#winter_18_19"
   ]
  },
  {
   "cell_type": "code",
   "execution_count": null,
   "id": "21625e26",
   "metadata": {},
   "outputs": [],
   "source": [
    "# export JSON file\n",
    "winter_18_19.to_json(r'Price_data\\ATR_18_19.json')"
   ]
  },
  {
   "cell_type": "code",
   "execution_count": null,
   "id": "6a206fe1",
   "metadata": {},
   "outputs": [],
   "source": [
    "############ 2019 - 2020 #############"
   ]
  },
  {
   "cell_type": "code",
   "execution_count": null,
   "id": "243cdad4",
   "metadata": {},
   "outputs": [],
   "source": [
    "# filter price/ATR data\n",
    "winter_19_20 = merged_df.loc[(merged_df['Date'] >= '2019-12-01') & (merged_df['Date'] < '2020-03-01')]\n",
    "winter_19_20"
   ]
  },
  {
   "cell_type": "code",
   "execution_count": null,
   "id": "2fe98d37",
   "metadata": {},
   "outputs": [],
   "source": [
    "#convert from date time to string\n",
    "winter_19_20 = winter_19_20.copy()\n",
    "winter_19_20[\"Date\"] = winter_19_20[\"Date\"].astype(\"str\")\n"
   ]
  },
  {
   "cell_type": "code",
   "execution_count": null,
   "id": "323c8f4b",
   "metadata": {},
   "outputs": [],
   "source": [
    "# change 'Date' to index\n",
    "# winter_19_20 = winter_19_20.set_index('Date')\n",
    "#winter_19_20"
   ]
  },
  {
   "cell_type": "code",
   "execution_count": null,
   "id": "c90d4849",
   "metadata": {},
   "outputs": [],
   "source": [
    "# export JSON file\n",
    "winter_19_20.to_json(r'Price_data\\ATR_19_20.json')"
   ]
  },
  {
   "cell_type": "code",
   "execution_count": null,
   "id": "eec63040",
   "metadata": {},
   "outputs": [],
   "source": [
    "#Function to convert dataframes to dictionaries\n",
    "def get_naturalgas_dict(dataframe):\n",
    "    naturalgas_dict = dataframe.to_dict(orient='records')\n",
    "    return naturalgas_dict"
   ]
  },
  {
   "cell_type": "code",
   "execution_count": null,
   "id": "d9a57e09",
   "metadata": {},
   "outputs": [],
   "source": [
    "#Convert all natural gas dataframes to dictionaries\n",
    "winter_11_12_dict = get_naturalgas_dict(winter_11_12)\n",
    "winter_12_13_dict = get_naturalgas_dict(winter_12_13)\n",
    "winter_13_14_dict = get_naturalgas_dict(winter_13_14)\n",
    "winter_14_15_dict = get_naturalgas_dict(winter_14_15)\n",
    "winter_15_16_dict = get_naturalgas_dict(winter_15_16)\n",
    "winter_16_17_dict = get_naturalgas_dict(winter_16_17)\n",
    "winter_17_18_dict = get_naturalgas_dict(winter_17_18)\n",
    "winter_18_19_dict = get_naturalgas_dict(winter_18_19)\n",
    "winter_19_20_dict = get_naturalgas_dict(winter_19_20)"
   ]
  },
  {
   "cell_type": "code",
   "execution_count": null,
   "id": "36a8abf6",
   "metadata": {},
   "outputs": [],
   "source": [
    "#Create dictionary to hold all datasets to export\n",
    "naturalgas_datasets = {\n",
    "    'winter_11_12': winter_11_12_dict,\n",
    "    'winter_12_13': winter_12_13_dict,\n",
    "    'winter_13_14': winter_13_14_dict,\n",
    "    'winter_14_15': winter_14_15_dict,\n",
    "    'winter_15_16': winter_15_16_dict,\n",
    "    'winter_16_17': winter_16_17_dict,    \n",
    "    'winter_17_18': winter_17_18_dict,\n",
    "    'winter_18_19': winter_18_19_dict,\n",
    "    'winter_19_20': winter_19_20_dict,\n",
    "}"
   ]
  },
  {
   "cell_type": "code",
   "execution_count": null,
   "id": "0ca966d3",
   "metadata": {},
   "outputs": [],
   "source": [
    "naturalgas_datasets"
   ]
  },
  {
   "cell_type": "code",
   "execution_count": null,
   "id": "33ad3cff",
   "metadata": {},
   "outputs": [],
   "source": [
    "def export_data_to_json(data, filename):\n",
    "    with open(filename, 'w') as file:\n",
    "        json.dump(data, file)\n",
    "\n",
    "def export_datasets(datasets):\n",
    "    data_folder = 'data'\n",
    "\n",
    "    # Create 'data' folder if it doesn't exist\n",
    "    if not os.path.exists(data_folder):\n",
    "        os.makedirs(data_folder)\n",
    "\n",
    "    for dataset_name, dataset in datasets.items():\n",
    "        filename = os.path.join(data_folder, f\"{dataset_name}_data.json\")\n",
    "        export_data_to_json(dataset, filename)"
   ]
  },
  {
   "cell_type": "code",
   "execution_count": null,
   "id": "288c4e83",
   "metadata": {},
   "outputs": [],
   "source": [
    "export_datasets(naturalgas_datasets)"
   ]
  },
  {
   "cell_type": "code",
   "execution_count": null,
   "id": "b9c84dc8",
   "metadata": {},
   "outputs": [],
   "source": []
  }
 ],
 "metadata": {
  "kernelspec": {
   "display_name": "PythonData",
   "language": "python",
   "name": "pythondata"
  },
  "language_info": {
   "codemirror_mode": {
    "name": "ipython",
    "version": 3
   },
   "file_extension": ".py",
   "mimetype": "text/x-python",
   "name": "python",
   "nbconvert_exporter": "python",
   "pygments_lexer": "ipython3",
   "version": "3.7.7"
  }
 },
 "nbformat": 4,
 "nbformat_minor": 5
}
