{
 "cells": [
  {
   "cell_type": "code",
   "execution_count": 1,
   "id": "974af39f",
   "metadata": {},
   "outputs": [],
   "source": [
    "from pymongo import MongoClient\n",
    "import json\n",
    "import glob\n",
    "import os\n",
    "import re\n",
    "import datetime\n"
   ]
  },
  {
   "cell_type": "code",
   "execution_count": 2,
   "id": "5442359b",
   "metadata": {},
   "outputs": [],
   "source": [
    "def import_weather_data(file_path, schema, collection, city):\n",
    "    with open(file_path) as file:\n",
    "        data = json.load(file)\n",
    "        for item in data:\n",
    "            # Ensure temperature values are floats\n",
    "            item['tavg'] = float(item['tavg']) if item['tavg'] else None\n",
    "            item['tmax'] = float(item['tmax']) if item['tmax'] else None\n",
    "            item['tmin'] = float(item['tmin']) if item['tmin'] else None\n",
    "\n",
    "            item['city'] = city\n",
    "            collection.insert_one(item)\n"
   ]
  },
  {
   "cell_type": "code",
   "execution_count": 3,
   "id": "bbed3ad4",
   "metadata": {},
   "outputs": [],
   "source": [
    "# Function to import data from a JSON file\n",
    "def import_futures_data(file_path, schema, collection, label):\n",
    "    with open(file_path) as file:\n",
    "        data = json.load(file)\n",
    "        futures_data = []\n",
    "        current_year = None\n",
    "        for item in data:\n",
    "            date_str = item['Date']\n",
    "            year = datetime.datetime.strptime(date_str, \"%Y-%m-%d\").year\n",
    "            if current_year is None:\n",
    "                current_year = year\n",
    "            elif year != current_year:\n",
    "                # Process the futures data for the previous year\n",
    "                process_futures_data(futures_data, schema, collection, label)\n",
    "                futures_data = []\n",
    "                current_year = year\n",
    "            futures_data.append(item)\n",
    "        \n",
    "        # Process the last futures data\n",
    "        process_futures_data(futures_data, schema, collection, label)\n",
    "\n",
    "def process_futures_data(futures_data, schema, collection, label):\n",
    "    # Insert the labeled data into the collection\n",
    "    for item in futures_data:\n",
    "        item['Label'] = label\n",
    "    collection.insert_many(futures_data)"
   ]
  },
  {
   "cell_type": "code",
   "execution_count": 4,
   "id": "10551bc3",
   "metadata": {},
   "outputs": [],
   "source": [
    "# Establish a connection to your MongoDB server\n",
    "client = MongoClient('mongodb://localhost:27017/')\n",
    "db = client['project_3_db']  \n",
    "weather_collection = db['weather_data']\n",
    "futures_collection = db['futures_data']\n"
   ]
  },
  {
   "cell_type": "code",
   "execution_count": 5,
   "id": "fd90473b",
   "metadata": {},
   "outputs": [],
   "source": [
    "# Define the schema for the weather data\n",
    "weather_schema = {\n",
    "    'date': 'date',\n",
    "    'tavg': 'float',\n",
    "    'tmin': 'float',\n",
    "    'tmax': 'float'\n",
    "}\n",
    "\n",
    "# Define the schema for the futures data\n",
    "futures_schema = {\n",
    "    'Date': 'date',\n",
    "    'Open': 'double',\n",
    "    'High': 'double',\n",
    "    'Low': 'double',\n",
    "    'Close': 'double',\n",
    "    'Adj_Close': 'double',\n",
    "    'Volume': 'int',\n",
    "    'ATR': 'double'\n",
    "}"
   ]
  },
  {
   "cell_type": "code",
   "execution_count": 6,
   "id": "fc400892",
   "metadata": {},
   "outputs": [],
   "source": [
    "base_dir = os.getcwd()\n",
    "\n",
    "# Specify the relative directory paths for weather and futures data\n",
    "weather_directory = os.path.join(base_dir, 'data', 'weather')\n",
    "futures_directory = os.path.join(base_dir, 'data', 'futures')"
   ]
  },
  {
   "cell_type": "code",
   "execution_count": 7,
   "id": "c85c47cf",
   "metadata": {},
   "outputs": [],
   "source": [
    "# Import weather data from multiple files for each city\n",
    "cities = ['Los Angeles', 'New York City', 'Chicago', 'Detroit', 'Columbus', 'Philadelphia', 'Newark', 'Houston', 'Indianapolis', 'Milwaukee']\n",
    "\n",
    "for city in cities:\n",
    "    collection = db['weather_data']  # Use the same collection for all cities\n",
    "    city_file_path = os.path.join(weather_directory, f'{city}_data.json')\n",
    "    import_weather_data(city_file_path, weather_schema, collection, city)"
   ]
  },
  {
   "cell_type": "code",
   "execution_count": 8,
   "id": "dea34645",
   "metadata": {},
   "outputs": [],
   "source": [
    "# Import futures data from multiple files\n",
    "futures_files = os.listdir(futures_directory)\n",
    "for index, file in enumerate(futures_files):\n",
    "    if file.endswith('.json'):\n",
    "        label = f'Winter {index + 1}'\n",
    "        file_path = os.path.join(futures_directory, file)\n",
    "        import_futures_data(file_path, futures_schema, futures_collection, label)"
   ]
  },
  {
   "cell_type": "code",
   "execution_count": 9,
   "id": "c28e05e1",
   "metadata": {},
   "outputs": [],
   "source": [
    "# Close the MongoDB connection\n",
    "client.close()"
   ]
  },
  {
   "cell_type": "code",
   "execution_count": null,
   "id": "8ac2eed1",
   "metadata": {},
   "outputs": [],
   "source": []
  }
 ],
 "metadata": {
  "kernelspec": {
   "display_name": "Python 3 (ipykernel)",
   "language": "python",
   "name": "python3"
  },
  "language_info": {
   "codemirror_mode": {
    "name": "ipython",
    "version": 3
   },
   "file_extension": ".py",
   "mimetype": "text/x-python",
   "name": "python",
   "nbconvert_exporter": "python",
   "pygments_lexer": "ipython3",
   "version": "3.7.7"
  }
 },
 "nbformat": 4,
 "nbformat_minor": 5
}
