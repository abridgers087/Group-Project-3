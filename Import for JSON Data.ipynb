{
 "cells": [
  {
   "cell_type": "code",
   "execution_count": 1,
   "id": "4f0ff4fa",
   "metadata": {},
   "outputs": [],
   "source": [
    "from pymongo import MongoClient\n",
    "import json\n",
    "import glob\n",
    "import os"
   ]
  },
  {
   "cell_type": "code",
   "execution_count": 2,
   "id": "1c7ed060",
   "metadata": {},
   "outputs": [],
   "source": [
    "# Function to import data from a JSON file\n",
    "def import_weather_data(file_path, schema, collection, city):\n",
    "    with open(file_path) as file:\n",
    "        data = json.load(file)\n",
    "        for item in data:\n",
    "            item['city'] = city\n",
    "            collection.insert_one(item)"
   ]
  },
  {
   "cell_type": "code",
   "execution_count": 3,
   "id": "cba5d788",
   "metadata": {},
   "outputs": [],
   "source": [
    "# Function to import data from a JSON file\n",
    "def import_futures_data(file_path, schema, collection):\n",
    "    with open(file_path) as file:\n",
    "        data = json.load(file)\n",
    "        for item in data:\n",
    "            collection.insert_one(item)"
   ]
  },
  {
   "cell_type": "code",
   "execution_count": 4,
   "id": "6a7cdb04",
   "metadata": {},
   "outputs": [],
   "source": [
    "# Establish a connection to your MongoDB server\n",
    "client = MongoClient('mongodb://localhost:27017/')\n",
    "db = client['project_3_db']  \n",
    "weather_collection = db['weather_data']\n",
    "futures_collection = db['futures_data']\n"
   ]
  },
  {
   "cell_type": "code",
   "execution_count": 5,
   "id": "55a14b88",
   "metadata": {},
   "outputs": [],
   "source": [
    "# Define the schema for the weather data\n",
    "weather_schema = {\n",
    "    'date': 'date',\n",
    "    'tavg_fahrenheit': 'double',\n",
    "    'tmin_fahrenheit': 'double',\n",
    "    'tmax_fahrenheit': 'double'\n",
    "}\n",
    "\n",
    "# Define the schema for the futures data\n",
    "futures_schema = {\n",
    "    'Date': 'date',\n",
    "    'Open': 'double',\n",
    "    'High': 'double',\n",
    "    'Low': 'double',\n",
    "    'Close': 'double',\n",
    "    'Adj_Close': 'double',\n",
    "    'Volume': 'int',\n",
    "    'ATR': 'double'\n",
    "}"
   ]
  },
  {
   "cell_type": "code",
   "execution_count": 6,
   "id": "929af9ac",
   "metadata": {},
   "outputs": [],
   "source": [
    "# Specify the directory path where the weather JSON files are located\n",
    "weather_directory = r'C:\\Users\\abrid\\OneDrive\\Desktop\\Project 3 Folder\\Group-Project-3\\data\\weather'\n",
    "\n",
    "# Specify the directory path where the futures JSON files are located\n",
    "futures_directory = r'C:\\Users\\abrid\\OneDrive\\Desktop\\Project 3 Folder\\Group-Project-3\\data\\futures'"
   ]
  },
  {
   "cell_type": "code",
   "execution_count": 8,
   "id": "e32f13f5",
   "metadata": {},
   "outputs": [],
   "source": [
    "# Import weather data from multiple files for each city\n",
    "cities = ['Los Angeles', 'New York City', 'Chicago', 'Detroit', 'Columbus', 'Philadelphia', 'Newark', 'Houston', 'Indianapolis', 'Milwaukee']\n",
    "\n",
    "for city in cities:\n",
    "    collection = db['weather_data']  # Use the same collection for all cities\n",
    "    city_file_path = os.path.join(weather_directory, f'{city}_data.json')\n",
    "    import_weather_data(city_file_path, weather_schema, collection, city)"
   ]
  },
  {
   "cell_type": "code",
   "execution_count": 9,
   "id": "fa611e0e",
   "metadata": {},
   "outputs": [],
   "source": [
    "# Import futures data from multiple files\n",
    "futures_files = os.listdir(futures_directory)\n",
    "for file in futures_files:\n",
    "    if file.endswith('.json'):\n",
    "        file_path = os.path.join(futures_directory, file)\n",
    "        import_futures_data(file_path, futures_schema, futures_collection)"
   ]
  },
  {
   "cell_type": "code",
   "execution_count": 10,
   "id": "021f771e",
   "metadata": {},
   "outputs": [],
   "source": [
    "# Close the MongoDB connection\n",
    "client.close()"
   ]
  },
  {
   "cell_type": "code",
   "execution_count": null,
   "id": "5eade6d8",
   "metadata": {},
   "outputs": [],
   "source": []
  }
 ],
 "metadata": {
  "kernelspec": {
   "display_name": "Python 3 (ipykernel)",
   "language": "python",
   "name": "python3"
  },
  "language_info": {
   "codemirror_mode": {
    "name": "ipython",
    "version": 3
   },
   "file_extension": ".py",
   "mimetype": "text/x-python",
   "name": "python",
   "nbconvert_exporter": "python",
   "pygments_lexer": "ipython3",
   "version": "3.7.7"
  }
 },
 "nbformat": 4,
 "nbformat_minor": 5
}
