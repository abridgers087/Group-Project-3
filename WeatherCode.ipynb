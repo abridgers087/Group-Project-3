{
 "cells": [
  {
   "cell_type": "code",
   "execution_count": 1,
   "id": "668ec94a",
   "metadata": {},
   "outputs": [],
   "source": [
    "import requests\n",
    "from api_keys import rapid_api_key\n",
    "import json\n",
    "import os"
   ]
  },
  {
   "cell_type": "code",
   "execution_count": 2,
   "id": "b23b7507",
   "metadata": {},
   "outputs": [],
   "source": [
    "#This function extracts temperature data for Dec-Feb from the dataset and converts it to Fahrenheit\n",
    "def extract_temperature_data(weather_data):\n",
    "    temperature_data = []\n",
    "    \n",
    "    # Extract temperature data for December, January, and February\n",
    "    for data_point in weather_data['data']:\n",
    "        date = data_point['date']\n",
    "        tavg_celsius = data_point['tavg']\n",
    "        tmin_celsius = data_point['tmin']\n",
    "        tmax_celsius = data_point['tmax']\n",
    "        \n",
    "        # Check if any temperature value is None\n",
    "        if tavg_celsius is None or tmin_celsius is None or tmax_celsius is None:\n",
    "            continue\n",
    "        \n",
    "        # Extract month from date\n",
    "        month = int(date.split('-')[1])\n",
    "        \n",
    "        # Check if month is December, January, or February\n",
    "        if month in [12, 1, 2]:\n",
    "            # Convert Celsius to Fahrenheit and round to two decimal places\n",
    "            tavg_fahrenheit = round((tavg_celsius * 9/5) + 32, 2)\n",
    "            tmin_fahrenheit = round((tmin_celsius * 9/5) + 32, 2)\n",
    "            tmax_fahrenheit = round((tmax_celsius * 9/5) + 32, 2)\n",
    "            \n",
    "            temperature_data.append({\n",
    "                'date': date,\n",
    "                'tavg_fahrenheit': tavg_fahrenheit,\n",
    "                'tmin_fahrenheit': tmin_fahrenheit,\n",
    "                'tmax_fahrenheit': tmax_fahrenheit\n",
    "            })\n",
    "    \n",
    "    return temperature_data"
   ]
  },
  {
   "cell_type": "code",
   "execution_count": 3,
   "id": "15297f60",
   "metadata": {},
   "outputs": [],
   "source": [
    "#This is the API function to pull down the weather data. Input Lat/lon of the requested city to get the weather data.\n",
    "#make sure to set up your api_keys file before running this function\n",
    "def get_weather_data(lat, lon):\n",
    "    url = \"https://meteostat.p.rapidapi.com/point/daily\"\n",
    "\n",
    "    querystring = {\n",
    "        \"lat\": str(lat),\n",
    "        \"lon\": str(lon),\n",
    "        \"start\": \"2011-01-01\",\n",
    "        \"end\": \"2020-02-29\",\n",
    "        #\"alt\": \"184\"\n",
    "    }\n",
    "\n",
    "    headers = {\n",
    "        \"X-RapidAPI-Key\": rapid_api_key,\n",
    "        \"X-RapidAPI-Host\": \"meteostat.p.rapidapi.com\"\n",
    "    }\n",
    "\n",
    "    response = requests.get(url, headers=headers, params=querystring)\n",
    "\n",
    "    weather_data = response.json()\n",
    "\n",
    "    return weather_data"
   ]
  },
  {
   "cell_type": "code",
   "execution_count": 4,
   "id": "1a66a70e",
   "metadata": {},
   "outputs": [],
   "source": [
    "def export_data_to_json(data, filename):\n",
    "    with open(filename, 'w') as file:\n",
    "        json.dump(data, file)\n",
    "\n",
    "def export_datasets(datasets):\n",
    "    data_folder = 'data'\n",
    "\n",
    "    # Create 'data' folder if it doesn't exist\n",
    "    if not os.path.exists(data_folder):\n",
    "        os.makedirs(data_folder)\n",
    "\n",
    "    for dataset_name, dataset in datasets.items():\n",
    "        filename = os.path.join(data_folder, f\"{dataset_name}_data.json\")\n",
    "        export_data_to_json(dataset, filename)"
   ]
  },
  {
   "cell_type": "code",
   "execution_count": 23,
   "id": "11383a02",
   "metadata": {},
   "outputs": [],
   "source": [
    "#get data\n",
    "la = get_weather_data(34, 118)\n",
    "chi = get_weather_data(41, 87)\n",
    "detroit = get_weather_data(42, 83)\n",
    "milwaukee = get_weather_data(43, 87)\n",
    "nyc = get_weather_data(40, -73)\n",
    "columbus = get_weather_data(40, -83)\n",
    "philly = get_weather_data(39, -75)\n",
    "newark = get_weather_data(40, -74)\n",
    "houston = get_weather_data(29, -95)\n",
    "indianapolis = get_weather_data(39, -86)\n",
    "milwaukee = get_weather_data(43, -87)"
   ]
  },
  {
   "cell_type": "code",
   "execution_count": 29,
   "id": "7f20276a",
   "metadata": {},
   "outputs": [],
   "source": [
    "#extract data\n",
    "la_data = extract_temperature_data(la)\n",
    "nyc_data = extract_temperature_data(nyc)\n",
    "chi_data = extract_temperature_data(chi)\n",
    "detroit_data = extract_temperature_data(detroit)\n",
    "columbus_oh_data = extract_temperature_data(columbus)\n",
    "philly_data = extract_temperature_data(philly)\n",
    "newark_data = extract_temperature_data(newark)\n",
    "houston_data = extract_temperature_data(houston)\n",
    "indianapolis_data = extract_temperature_data(indianapolis)\n",
    "milwaukee_data = extract_temperature_data(milwaukee)"
   ]
  },
  {
   "cell_type": "code",
   "execution_count": 31,
   "id": "b76b1391",
   "metadata": {},
   "outputs": [],
   "source": [
    "# Dictionary to hold all datasets to export\n",
    "datasets = {\n",
    "    'la': la_data,\n",
    "    'nyc': nyc_data,\n",
    "    'chi': chi_data,\n",
    "    'detroit': detroit_data,\n",
    "    'columbus_oh': columbus_oh_data,\n",
    "    'philly': philly_data,\n",
    "    'newark': newark_data,\n",
    "    'houston': houston_data,\n",
    "    'indianapolis': indianapolis_data,\n",
    "    'milwaukee': milwaukee_data\n",
    "}"
   ]
  },
  {
   "cell_type": "code",
   "execution_count": 32,
   "id": "ebd19daf",
   "metadata": {},
   "outputs": [],
   "source": [
    "export_datasets(datasets)"
   ]
  },
  {
   "cell_type": "code",
   "execution_count": null,
   "id": "546dacd2",
   "metadata": {},
   "outputs": [],
   "source": []
  }
 ],
 "metadata": {
  "kernelspec": {
   "display_name": "PythonData",
   "language": "python",
   "name": "pythondata"
  },
  "language_info": {
   "codemirror_mode": {
    "name": "ipython",
    "version": 3
   },
   "file_extension": ".py",
   "mimetype": "text/x-python",
   "name": "python",
   "nbconvert_exporter": "python",
   "pygments_lexer": "ipython3",
   "version": "3.7.7"
  }
 },
 "nbformat": 4,
 "nbformat_minor": 5
}
