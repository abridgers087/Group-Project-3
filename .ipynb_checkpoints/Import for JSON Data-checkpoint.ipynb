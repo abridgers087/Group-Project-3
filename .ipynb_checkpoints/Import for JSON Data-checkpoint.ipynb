{
 "cells": [
  {
   "cell_type": "code",
   "execution_count": 1,
   "id": "4c8ebe1b",
   "metadata": {},
   "outputs": [],
   "source": [
    "import os\n",
    "import psycopg2\n",
    "import json\n",
    "from api_keys import postgres_pw"
   ]
  },
  {
   "cell_type": "code",
   "execution_count": null,
   "id": "39021798",
   "metadata": {},
   "outputs": [],
   "source": [
    "# Establish a connection to the PostgreSQL server\n",
    "conn = psycopg2.connect(\n",
    "    host=\"your_host\",\n",
    "    port=\"your_port\",\n",
    "    database=\"your_database\",\n",
    "    user=\"your_user\",\n",
    "    password=\"your_password\"\n",
    ")"
   ]
  },
  {
   "cell_type": "code",
   "execution_count": null,
   "id": "743c9b5e",
   "metadata": {},
   "outputs": [],
   "source": [
    "# List of file names\n",
    "file_names = [\n",
    "    'la_data',\n",
    "    'nyc_data',\n",
    "    'chi_data',\n",
    "    'detroit_data',\n",
    "    'columbus_oh_data',\n",
    "    'philly_data',\n",
    "    'newark_data',\n",
    "    'houston_data',\n",
    "    'indianapolis_data',\n",
    "    'milwaukee_data',\n",
    "    'winter_11_12_data',\n",
    "    'winter_12_13_data',\n",
    "    'winter_13_14_data',\n",
    "    'winter_14_15_data',\n",
    "    'winter_15_16_data',\n",
    "    'winter_16_17_data',\n",
    "    'winter_17_18_data',\n",
    "    'winter_18_19_data',\n",
    "    'winter_19_20_data'\n",
    "]"
   ]
  },
  {
   "cell_type": "code",
   "execution_count": null,
   "id": "e6687a97",
   "metadata": {},
   "outputs": [],
   "source": [
    "# Iterate over the file names and add the data to the database\n",
    "for file_name in file_names:\n",
    "    file_path = os.path.join(current_directory, f'{file_name}.json')\n",
    "    with open(file_path) as file:\n",
    "        data = json.load(file)\n",
    "        collection.insert_many(data)\n",
    "\n",
    "# Close the MongoDB connection\n",
    "client.close()\n"
   ]
  },
  {
   "cell_type": "code",
   "execution_count": null,
   "id": "795dbbbe",
   "metadata": {},
   "outputs": [],
   "source": []
  }
 ],
 "metadata": {
  "kernelspec": {
   "display_name": "Python 3 (ipykernel)",
   "language": "python",
   "name": "python3"
  },
  "language_info": {
   "codemirror_mode": {
    "name": "ipython",
    "version": 3
   },
   "file_extension": ".py",
   "mimetype": "text/x-python",
   "name": "python",
   "nbconvert_exporter": "python",
   "pygments_lexer": "ipython3",
   "version": "3.7.7"
  }
 },
 "nbformat": 4,
 "nbformat_minor": 5
}
